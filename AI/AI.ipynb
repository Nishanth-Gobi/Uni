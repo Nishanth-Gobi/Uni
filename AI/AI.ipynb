{
  "cells": [
    {
      "cell_type": "code",
      "execution_count": null,
      "metadata": {
        "id": "2j19OSypruVn"
      },
      "outputs": [],
      "source": [
        "from random import randint\n",
        "import networkx as nx\n",
        "import matplotlib.pyplot as plt\n",
        "from numpy import matrix as mat\n",
        "from typing import List\n",
        "from copy import deepcopy"
      ]
    },
    {
      "cell_type": "markdown",
      "metadata": {
        "id": "_m7-VtOCqiOo"
      },
      "source": [
        "# BFS-DFS"
      ]
    },
    {
      "cell_type": "code",
      "execution_count": null,
      "metadata": {
        "id": "uZbBrylhsTWL"
      },
      "outputs": [],
      "source": [
        "no_of_nodes = 5\n",
        "source = 0\n",
        "destination = 3"
      ]
    },
    {
      "cell_type": "code",
      "execution_count": null,
      "metadata": {
        "id": "FlaWGB5Xse9i"
      },
      "outputs": [],
      "source": [
        "def generate_random_matrix(no_of_nodes):\n",
        "    return [[randint(0,1) if i!=j else 0 for j in range(no_of_nodes)] for i in range(no_of_nodes)]"
      ]
    },
    {
      "cell_type": "code",
      "execution_count": null,
      "metadata": {
        "id": "vVr_0nF7qaCp"
      },
      "outputs": [],
      "source": [
        "class graph:\n",
        "    def __init__(self, adj_mat, source, destination):\n",
        "        self.no_of_nodes = len(adj_mat)\n",
        "        self.adj_mat = adj_mat.copy()\n",
        "        self.source = source\n",
        "        self.destination = destination\n",
        "        self.dfs_path = []\n",
        "        self.bfs_path = []\n",
        "        self.depth_limit_path = []\n",
        "     \n",
        "    def display(self, path):\n",
        "        print(\"\\nSource: \", self.source)\n",
        "        print(\"Destination: \", self.destination)\n",
        "        print(\"Adjacency matrix: \\n\\n\", mat(self.adj_mat),end=\"\\n\\n\")\n",
        "        \n",
        "        G = nx.DiGraph()\n",
        "        G.add_nodes_from([i for i in range(no_of_nodes)])\n",
        "         \n",
        "        for i in range(5):\n",
        "            for j in range(5):\n",
        "                if self.adj_mat[i][j]==1 and (i,j) not in path and (j,i) not in path:\n",
        "                    G.add_edge(i,j, color='b')\n",
        "        \n",
        "        \n",
        "        for i in path:\n",
        "            G.add_edge(i[0], i[1], color='r', weight=2)\n",
        "        \n",
        "        G.add_edges_from(path)\n",
        "        edges = G.edges()\n",
        "        colors = [G[u][v]['color'] for u,v in edges]\n",
        "        nx.draw(G, with_labels=True, edge_color=colors)\n",
        "        plt.show()\n",
        "\n",
        "    def dfs(self, curr, path):\n",
        "        if curr== self.destination:\n",
        "            for i in range(1, len(path)):\n",
        "                edge = (path[i-1], path[i]) \n",
        "                self.dfs_path.append(edge)\n",
        "            \n",
        "            self.display(self.dfs_path)\n",
        "            print(\"DFS: \", self.dfs_path)\n",
        "            return self.dfs_path\n",
        "        \n",
        "        for i in range(self.no_of_nodes):\n",
        "            if i not in path and self.adj_mat[curr][i]==1:\n",
        "                path.append(i)\n",
        "                r = self.dfs(i, path)\n",
        "                if r:\n",
        "                    return r\n",
        "                path.pop()    \n",
        "        return \n",
        "        \n",
        "    def bfs_display(self):\n",
        "\n",
        "        G = nx.DiGraph()\n",
        "        G.add_nodes_from([i for i in range(no_of_nodes)])\n",
        "         \n",
        "        for i in range(5):\n",
        "            for j in range(5):\n",
        "                if self.adj_mat[i][j]==1 and (i,j) not in self.bfs_path and (j,i) not in self.bfs_path:\n",
        "                    G.add_edge(i,j, color='b')\n",
        "        \n",
        "        for i in range(len(self.bfs_path)-1):\n",
        "            G.add_edge(self.bfs_path[i], self.bfs_path[i+1], color='r', weight=2)\n",
        "        \n",
        "        edges = G.edges()\n",
        "        colors = [G[u][v]['color'] for u,v in edges]\n",
        "        nx.draw(G, with_labels=True, edge_color=colors)\n",
        "        plt.show()\n",
        "        print(\"BFS: \", self.bfs_path)\n",
        "        \n",
        "    def bfs(self, d, visited):\n",
        "        while len(visited)>0:\n",
        "            curr = visited.pop(0)\n",
        "            self.bfs_path.append(curr)\n",
        "            for i in range(0, no_of_nodes):\n",
        "                if self.adj_mat[curr][i]==1 and i not in visited:\n",
        "                    visited.append(i)\n",
        "                    if i==d:\n",
        "                        self.bfs_path.append(d)\n",
        "                        return\n",
        "\n",
        "\n",
        "    def depth_limited_search(self, curr, path, limit): \n",
        "        if limit == 0:\n",
        "            return \n",
        "        \n",
        "        if curr== self.destination:\n",
        "            for i in range(1, len(path)):\n",
        "                edge = (path[i-1], path[i]) \n",
        "                self.depth_limit_path.append(edge)\n",
        "            print(\"Depth Limit Search: \", self.depth_limit_path)\n",
        "            self.display(self.depth_limit_path)\n",
        "            return self.depth_limit_path\n",
        "        \n",
        "        for i in range(self.no_of_nodes):\n",
        "            if i not in path and self.adj_mat[curr][i]==1:\n",
        "                path.append(i)\n",
        "                r = self.depth_limited_search(i, path, limit-1)\n",
        "                if r:\n",
        "                    return r\n",
        "                path.pop()    \n",
        "        return"
      ]
    },
    {
      "cell_type": "code",
      "execution_count": null,
      "metadata": {
        "id": "YJKg2TRksnxo"
      },
      "outputs": [],
      "source": [
        "def bfs_dfs():\n",
        "\n",
        "    #adj_mat = generate_random_matrix(no_of_nodes)\n",
        "    adj_mat = [[0, 1, 0, 1, 0],\n",
        "            [0, 0, 1, 1, 1],\n",
        "            [1, 0, 0, 0, 1],\n",
        "            [0, 1, 1, 0, 1],\n",
        "            [0, 1, 1, 0, 0]]\n",
        "    \n",
        "    \n",
        "    g = graph(adj_mat, source, destination)\n",
        "    \n",
        "    g.dfs(source, [source])\n",
        "    \n",
        "    g.bfs(destination, [source])\n",
        "    g.bfs_display()\n",
        "        \n",
        "    limit = 1\n",
        "    g.depth_limited_search(source, [source], limit)"
      ]
    },
    {
      "cell_type": "code",
      "execution_count": null,
      "metadata": {
        "colab": {
          "base_uri": "https://localhost:8080/",
          "height": 860
        },
        "id": "XQrnBAi4spQx",
        "outputId": "f8428240-a16c-4b77-ab98-7ebcc227e582"
      },
      "outputs": [
        {
          "name": "stdout",
          "output_type": "stream",
          "text": [
            "\n",
            "Source:  0\n",
            "Destination:  3\n",
            "Adjacency matrix: \n",
            "\n",
            " [[0 1 0 1 0]\n",
            " [0 0 1 1 1]\n",
            " [1 0 0 0 1]\n",
            " [0 1 1 0 1]\n",
            " [0 1 1 0 0]]\n",
            "\n"
          ]
        },
        {
          "data": {
            "image/png": "[encoded data removed]",
            "text/plain": [
              "<Figure size 432x288 with 1 Axes>"
            ]
          },
          "metadata": {},
          "output_type": "display_data"
        },
        {
          "name": "stdout",
          "output_type": "stream",
          "text": [
            "DFS:  [(0, 1), (1, 3)]\n"
          ]
        },
        {
          "data": {
            "image/png": "[encoded data removed]",
            "text/plain": [
              "<Figure size 432x288 with 1 Axes>"
            ]
          },
          "metadata": {},
          "output_type": "display_data"
        },
        {
          "name": "stdout",
          "output_type": "stream",
          "text": [
            "BFS:  [0, 3]\n"
          ]
        }
      ],
      "source": [
        "bfs_dfs()"
      ]
    },
    {
      "cell_type": "markdown",
      "metadata": {
        "id": "1J2dfYpxqfxB"
      },
      "source": [
        "# Hill Climbing"
      ]
    },
    {
      "cell_type": "code",
      "execution_count": null,
      "metadata": {
        "id": "b6hJNpL7uCP4"
      },
      "outputs": [],
      "source": [
        "def inp():\n",
        "\n",
        "    points: Dict = {\n",
        "            'S': [1,2],\n",
        "            'A': [2,3],\n",
        "            'B': [2,4],\n",
        "            'C': [2,2],\n",
        "            'D': [1,4],\n",
        "            'E': [3,4],\n",
        "            'F': [3,2],\n",
        "            'G': [4,4],\n",
        "            'H': [3,3],\n",
        "            'I': [3,1]\n",
        "        }\n",
        "\n",
        "# =============================================================================\n",
        "#     points: Dict = {}\n",
        "#     cnt: int = int(input(\"Number of points:\"))\n",
        "#     for i in range(cnt):\n",
        "#         key: str = input(\"Point tag: \")\n",
        "#         val = input(\"Point co-rods: \")\n",
        "#         val = val.split(\",\")\n",
        "#         val = [int(i) for i in val]\n",
        "#         points[key] = val\n",
        "# =============================================================================\n",
        "\n",
        "    edges = {\n",
        "        'S': ['A'],\n",
        "        'A': ['B','S','C'],\n",
        "        'B': ['D', 'E'],\n",
        "        'C': ['A','I', 'F'],\n",
        "        'D': ['B'],\n",
        "        'E': ['B', 'H', 'G'],\n",
        "        'F': ['C', 'H'],\n",
        "        'G': ['E'],\n",
        "        'H': ['E', 'F', 'I'],\n",
        "        'I': ['H', 'C']\n",
        "        }\n",
        "\n",
        "# =============================================================================\n",
        "#     points: Dict = {}\n",
        "#     cnt: int = int(input(\"Number of edges:\"))\n",
        "#     for i in range(cnt):\n",
        "#         key: str = input(\"Start vertex tag: \")\n",
        "#         val = input(\"End vertex tags: \")\n",
        "#         val = val.split(\",\")\n",
        "# =============================================================================\n",
        "\n",
        "    return points, edges"
      ]
    },
    {
      "cell_type": "code",
      "execution_count": null,
      "metadata": {
        "id": "xDG_nymruEbg"
      },
      "outputs": [],
      "source": [
        "def h(x: int, y: int, x_g:int, y_g: int) -> int:\n",
        "    return abs(x-x_g) + abs(y-y_g)"
      ]
    },
    {
      "cell_type": "code",
      "execution_count": null,
      "metadata": {
        "id": "UA8M0kTZuGpo"
      },
      "outputs": [],
      "source": [
        "def get_next_point(points: List, g: List) -> int:\n",
        "    costs: List = [h(i[0], i[1], g[0], g[1]) for i in points]\n",
        "    print(\"Cost: \", costs)\n",
        "    return costs.index(min(costs))\n"
      ]
    },
    {
      "cell_type": "code",
      "execution_count": null,
      "metadata": {
        "id": "j6ZdRrjwqdjd"
      },
      "outputs": [],
      "source": [
        "def hill_climbing():\n",
        "    points, edges = inp()\n",
        "    start = 'S'\n",
        "    path = [start]\n",
        "    while True:\n",
        "        pos_points = [i for i in edges[start]]\n",
        "        pos_points_nv = []\n",
        "        for point in pos_points:\n",
        "            if point not in path:\n",
        "                pos_points_nv.append(point)\n",
        "\n",
        "        if len(pos_points_nv)==0:\n",
        "            break\n",
        "\n",
        "        next_co_ords = []\n",
        "        for i in pos_points_nv:\n",
        "            next_co_ords.append(points[i])\n",
        "\n",
        "        print(\"PP: \", pos_points)\n",
        "        print(\"PP nv: \", pos_points_nv)\n",
        "\n",
        "        next_point = pos_points_nv[get_next_point(next_co_ords, points['G'])]\n",
        "\n",
        "        print(\"Next p: \", next_point)\n",
        "        print(\"Path: \", path)\n",
        "        print(\"---------------------------------\")\n",
        "\n",
        "        path.append(next_point)\n",
        "        start = next_point\n",
        "        if next_point == 'G':\n",
        "            break\n",
        "\n",
        "    print(\"Answer: \", path)\n"
      ]
    },
    {
      "cell_type": "code",
      "execution_count": null,
      "metadata": {
        "colab": {
          "base_uri": "https://localhost:8080/"
        },
        "id": "Y-vCOdgMuLxZ",
        "outputId": "29882165-16c3-4f21-c34f-8b330127b5e0"
      },
      "outputs": [
        {
          "name": "stdout",
          "output_type": "stream",
          "text": [
            "PP:  ['A']\n",
            "PP nv:  ['A']\n",
            "Cost:  [3]\n",
            "Next p:  A\n",
            "Path:  ['S']\n",
            "---------------------------------\n",
            "PP:  ['B', 'S', 'C']\n",
            "PP nv:  ['B', 'C']\n",
            "Cost:  [2, 4]\n",
            "Next p:  B\n",
            "Path:  ['S', 'A']\n",
            "---------------------------------\n",
            "PP:  ['D', 'E']\n",
            "PP nv:  ['D', 'E']\n",
            "Cost:  [3, 1]\n",
            "Next p:  E\n",
            "Path:  ['S', 'A', 'B']\n",
            "---------------------------------\n",
            "PP:  ['B', 'H', 'G']\n",
            "PP nv:  ['H', 'G']\n",
            "Cost:  [2, 0]\n",
            "Next p:  G\n",
            "Path:  ['S', 'A', 'B', 'E']\n",
            "---------------------------------\n",
            "Answer:  ['S', 'A', 'B', 'E', 'G']\n"
          ]
        }
      ],
      "source": [
        "hill_climbing()"
      ]
    },
    {
      "cell_type": "markdown",
      "metadata": {
        "id": "G_QZZFWprg6l"
      },
      "source": [
        "# 8-Puzzle (using Hill Climbing)"
      ]
    },
    {
      "cell_type": "code",
      "execution_count": null,
      "metadata": {
        "id": "19Nofv8V_Uos"
      },
      "outputs": [],
      "source": [
        "pos_map = {\n",
        "    1: [2, 4],\n",
        "    2: [1, 3, 5],\n",
        "    3: [2, 6],\n",
        "    4: [1, 5, 7],\n",
        "    5: [2, 4, 6, 8],\n",
        "    6: [3, 5, 9],\n",
        "    7: [4, 8],\n",
        "    8: [5, 7, 9],\n",
        "    9: [6, 8]\n",
        "    }"
      ]
    },
    {
      "cell_type": "code",
      "execution_count": null,
      "metadata": {
        "id": "0p_UT8tH_ZYW"
      },
      "outputs": [],
      "source": [
        "goal_state = [0, 1, 2, 3, 4, 5, 6, 7, 8]\n",
        "moves = []\n",
        "counter = 0"
      ]
    },
    {
      "cell_type": "code",
      "execution_count": null,
      "metadata": {
        "id": "RPR5UyXt_csl"
      },
      "outputs": [],
      "source": [
        "def program_input():\n",
        "    start_state = [7,2,4,5,0,6,8,3,1]\n",
        "    # user_inp = input(\"Enter start state: \")\n",
        "    # start_state = [int(i) for i in user_inp.split(\",\")]\n",
        "    return start_state"
      ]
    },
    {
      "cell_type": "code",
      "execution_count": null,
      "metadata": {
        "id": "qsPObXWZ_ep1"
      },
      "outputs": [],
      "source": [
        "def heurestic(curr_state: List):\n",
        "    return sum( [abs(i-j) for i,j in zip(curr_state, goal_state)] )"
      ]
    },
    {
      "cell_type": "code",
      "execution_count": null,
      "metadata": {
        "id": "oF_rZDT3EJS-"
      },
      "outputs": [],
      "source": [
        "act_pos = {\n",
        "  0: [0, 0], \n",
        "  1: [0, 1], \n",
        "  2: [0, 2],\n",
        "  3: [1, 0], \n",
        "  4: [1, 1],\n",
        "  5: [1, 2],\n",
        "  6: [2, 0],\n",
        "  7: [2, 1],\n",
        "  8: [2, 2],\n",
        "}"
      ]
    },
    {
      "cell_type": "code",
      "execution_count": null,
      "metadata": {
        "id": "CqptKOFyDiwt"
      },
      "outputs": [],
      "source": [
        "def manhattan_dist(curr_state: List):\n",
        "  dist = 0\n",
        "  for i in range(3):\n",
        "    for j in range(3):\n",
        "      dist += abs(act_pos[curr_state[i*3+j]][0] - i) + abs(act_pos[curr_state[i*3+j]][1] - j)\n",
        "      # print(f\"ele: {act_pos[curr_state[i*3+j]]}, dist: {dist}, i: {i}, j: {j}\")\n",
        "  return dist\n"
      ]
    },
    {
      "cell_type": "code",
      "execution_count": null,
      "metadata": {
        "colab": {
          "base_uri": "https://localhost:8080/",
          "height": 169
        },
        "id": "e5PDt-QxGDy6",
        "outputId": "152437b9-959a-4a7d-fd8d-a769e76b10c9"
      },
      "outputs": [],
      "source": [
        "manhattan_dist([0, 1, 2, 3, 4, 5, 6, 7, 8])"
      ]
    },
    {
      "cell_type": "code",
      "execution_count": null,
      "metadata": {
        "id": "J94YxafB_gY1"
      },
      "outputs": [],
      "source": [
        "def possible_states(curr_state: List):\n",
        "    empty_cell = curr_state.index(0)\n",
        "    moves = []\n",
        "    for i in pos_map[empty_cell+1]:\n",
        "        move =  deepcopy(curr_state)\n",
        "        move[empty_cell] = curr_state[i-1]\n",
        "        move[i-1] = 0\n",
        "        # print(\"Move: \", move)\n",
        "        moves.append(move)\n",
        "\n",
        "    # print(\"Next_moves: \", *moves, sep=\"\\n\", end=\"\\n\\n\")\n",
        "    return moves"
      ]
    },
    {
      "cell_type": "code",
      "execution_count": null,
      "metadata": {
        "id": "_GBRVrVK_ibd"
      },
      "outputs": [],
      "source": [
        "def display(state: List):\n",
        "    print(state[0:3])\n",
        "    print(state[3:6])\n",
        "    print(state[6:9])"
      ]
    },
    {
      "cell_type": "code",
      "execution_count": null,
      "metadata": {
        "id": "gU33GAH0_kTW"
      },
      "outputs": [],
      "source": [
        "def next_best_move(possible_moves):\n",
        "    moves_costs = [manhattan_dist(possible_move) for possible_move in possible_moves]\n",
        "    # print(\"nbm <-- \")\n",
        "    # for i in range(len(possible_moves)):\n",
        "    #     print(\"\\nMove: \")\n",
        "    #     display(possible_moves[i])\n",
        "    #     print(\"Cost: \", moves_costs[i])\n",
        "    # print(\"-->\")\n",
        "    for i in range(len(possible_moves)):\n",
        "        best_move_pos = moves_costs.index(max(moves_costs))\n",
        "        yield possible_moves[best_move_pos], moves_costs[best_move_pos]\n",
        "        moves_costs[best_move_pos] = 0 # float(\"Inf\")"
      ]
    },
    {
      "cell_type": "code",
      "execution_count": null,
      "metadata": {
        "id": "ZY5lJdKCrmJI"
      },
      "outputs": [],
      "source": [
        "def eight_puzzle():\n",
        "    \n",
        "    start_state = program_input()\n",
        "    moves = [start_state]\n",
        "    i = 0\n",
        "    already = []\n",
        "    while len(moves)!=0:\n",
        "        \n",
        "        global counter\n",
        "        print('-'*100)\n",
        "        print(\"Iteration: \", counter)\n",
        "        print(\"\\nCurrent state:\")\n",
        "        counter+=1\n",
        "\n",
        "        curr_state = moves.pop(0)\n",
        "        display(curr_state)\n",
        "        already.append(curr_state)\n",
        "\n",
        "        if curr_state==goal_state:\n",
        "            break\n",
        "        \n",
        "        possible_moves = possible_states(curr_state)\n",
        "        for move in next_best_move(possible_moves):\n",
        "            if move[0] not in already:\n",
        "                print(\"\\nAdded to stack: \")\n",
        "                moves.insert(0, move[0])\n",
        "                display(move[0])\n",
        "                print(\"Cost: \", move[1])\n",
        "                \n",
        "        if i == 20000:\n",
        "            break\n",
        "        i+=1\n",
        "\n",
        "eight_puzzle()"
      ]
    },
    {
      "cell_type": "markdown",
      "metadata": {
        "id": "7YNF_U_kqnxq"
      },
      "source": [
        "# A-Star"
      ]
    },
    {
      "cell_type": "code",
      "execution_count": null,
      "metadata": {
        "id": "pVfzAa85r6fe"
      },
      "outputs": [],
      "source": [
        "def input_data():\n",
        "    heuristic_costs = {\n",
        "                \"S\": 17,\n",
        "                \"A\": 10,\n",
        "                \"B\": 13,\n",
        "                \"C\": 4,\n",
        "                \"D\": 2,\n",
        "                \"E\": 4,\n",
        "                \"F\": 1,\n",
        "                \"G\": 0\n",
        "            }\n",
        "    \n",
        "    edges = {\n",
        "                \"S\": [[\"A\", 6],[\"B\", 5],[\"C\", 10]],\n",
        "                \"A\": [[\"E\", 6]],\n",
        "                \"B\": [[\"E\", 6], [\"D\", 7]],\n",
        "                \"C\": [[\"D\", 6]],\n",
        "                \"D\": [[\"F\", 6]],\n",
        "                \"E\": [[\"F\", 4]],\n",
        "                \"F\": [[\"G\", 3]],\n",
        "            }\n",
        "    return heuristic_costs, edges"
      ]
    },
    {
      "cell_type": "code",
      "execution_count": null,
      "metadata": {
        "id": "2WQ-keE1qoKX"
      },
      "outputs": [],
      "source": [
        "def prune_memeber_paths(paths: List):\n",
        "    \n",
        "    for i, path1 in enumerate(paths):\n",
        "        for j, path2 in enumerate(paths):\n",
        "            if path1[1] in path2[1] and path1[0] >= path2[0] and i!=j:\n",
        "                paths.pop(paths.index(path1))\n",
        "                break\n",
        "    # print(\"-->\", paths)\n",
        "    return paths"
      ]
    },
    {
      "cell_type": "code",
      "execution_count": null,
      "metadata": {
        "id": "XtjRQ6uLr90g"
      },
      "outputs": [],
      "source": [
        "def a_star():\n",
        "    h_costs, edges = input_data()\n",
        "    \n",
        "    import heapq\n",
        "    heap = []\n",
        "    heapq.heappush(heap, [17, \"S\"])\n",
        "    while len(heap)!=0:\n",
        "        curr = heapq.heappop(heap)\n",
        "        # print(\"Curr: \", curr, curr[1][-1])\n",
        "        if curr[1][-1]==\"G\":\n",
        "            print(\"\\nAns: \", curr)\n",
        "            break\n",
        "        for i in edges[curr[1][-1]]:\n",
        "            cost = curr[0] + i[1] + h_costs[i[0]] - h_costs[curr[1][-1]]\n",
        "            heapq.heappush(heap, [cost, curr[1]+i[0]])\n",
        "            \n",
        "        heap[:] = prune_memeber_paths(heap)\n",
        "        heapq.heapify(heap)\n",
        "        print(\"Heap: \", heap)            "
      ]
    },
    {
      "cell_type": "code",
      "execution_count": null,
      "metadata": {
        "colab": {
          "base_uri": "https://localhost:8080/"
        },
        "id": "jVcUmSmbr3SI",
        "outputId": "ca87be09-9549-457b-a533-0939c114bfaa"
      },
      "outputs": [
        {
          "name": "stdout",
          "output_type": "stream",
          "text": [
            "Heap:  [[14, 'SC'], [18, 'SB'], [16, 'SA']]\n",
            "Heap:  [[16, 'SA'], [18, 'SB'], [18, 'SCD']]\n",
            "Heap:  [[16, 'SAE'], [18, 'SCD'], [18, 'SB']]\n",
            "Heap:  [[17, 'SAEF'], [18, 'SCD'], [18, 'SB']]\n",
            "Heap:  [[18, 'SB'], [18, 'SCD'], [19, 'SAEFG']]\n",
            "Heap:  [[14, 'SBD'], [15, 'SBE'], [18, 'SCD'], [19, 'SAEFG']]\n",
            "Heap:  [[15, 'SBE'], [19, 'SAEFG'], [18, 'SCD'], [19, 'SBDF']]\n",
            "Heap:  [[16, 'SBEF'], [18, 'SCD'], [19, 'SBDF'], [19, 'SAEFG']]\n",
            "Heap:  [[18, 'SBEFG'], [18, 'SCD'], [19, 'SBDF'], [19, 'SAEFG']]\n",
            "\n",
            "Ans:  [18, 'SBEFG']\n"
          ]
        }
      ],
      "source": [
        "a_star()"
      ]
    },
    {
      "cell_type": "markdown",
      "metadata": {
        "id": "x5UknXvzu3YR"
      },
      "source": [
        "# River Crossing (using A-star)"
      ]
    },
    {
      "cell_type": "code",
      "execution_count": null,
      "metadata": {
        "id": "8Rri-qv0vGHb"
      },
      "outputs": [],
      "source": [
        "goal_state = [0, 0, \"RIGHT\", 3, 3]"
      ]
    },
    {
      "cell_type": "code",
      "execution_count": null,
      "metadata": {
        "id": "oyJraggkyr5K"
      },
      "outputs": [],
      "source": [
        "dir = {\n",
        "    \"LEFT\": \"RIGHT\",\n",
        "    \"RIGHT\": \"LEFT\",\n",
        "}"
      ]
    },
    {
      "cell_type": "code",
      "execution_count": null,
      "metadata": {
        "id": "YqSiH64_vF0L"
      },
      "outputs": [],
      "source": [
        "def heurestic(curr_state: List):\n",
        "    return curr_state[0]+curr_state[1]-curr_state[4]-curr_state[3]"
      ]
    },
    {
      "cell_type": "code",
      "execution_count": null,
      "metadata": {
        "id": "nNfq8vRHvFsi"
      },
      "outputs": [],
      "source": [
        "def next_step():\n",
        "    pass"
      ]
    },
    {
      "cell_type": "code",
      "execution_count": null,
      "metadata": {
        "id": "tSmrcKX5wCQM"
      },
      "outputs": [],
      "source": [
        "def possible_moves(curr_state: List):\n",
        "  # [3,3,\"LEFT\",0,0] -> [[1,3,\"RIGHT\",0,2], [3,1,\"RIGHT\",2,0], [2,2,\"RIGHT\",1,1]] [C,M,turn,M,C]\n",
        "  moves = []\n",
        "\n",
        "  if curr_state[2] == \"LEFT\":\n",
        "    pos1, pos2 = 0, 1\n",
        "  else:\n",
        "    pos1, pos2 = -1, -2\n",
        "  \n",
        "  if curr_state[pos1]>=2:\n",
        "    temp_state = curr_state.copy()\n",
        "    temp_state[pos1]-=2\n",
        "    temp_state[-pos1-1]+=2\n",
        "    temp_state[2] = dir[temp_state[2]]\n",
        "    moves.append(temp_state)\n",
        "  if curr_state[pos2]>=2:\n",
        "    temp_state = curr_state.copy()\n",
        "    temp_state[pos2]-=2\n",
        "    temp_state[-pos2-1]+=2\n",
        "    temp_state[2] = dir[temp_state[2]]\n",
        "    moves.append(temp_state)\n",
        "  if curr_state[pos1]>=1 and curr_state[pos2]>=1:\n",
        "    temp_state = curr_state.copy()\n",
        "    temp_state[pos1]-=1\n",
        "    temp_state[pos2]-=1\n",
        "    temp_state[-pos1-1]+=1\n",
        "    temp_state[-pos2-1]+=1\n",
        "    temp_state[2] = dir[temp_state[2]]\n",
        "    moves.append(temp_state)\n",
        "  if curr_state[pos1]>=1:\n",
        "    temp_state = curr_state.copy()\n",
        "    temp_state[pos1]-=1\n",
        "    temp_state[-pos1-1]+=1\n",
        "    temp_state[2] = dir[temp_state[2]]\n",
        "    moves.append(temp_state)\n",
        "  if curr_state[pos2]>=1:\n",
        "    temp_state = curr_state.copy()\n",
        "    temp_state[pos2]-=1\n",
        "    temp_state[-pos2-1]+=1\n",
        "    temp_state[2] = dir[temp_state[2]]\n",
        "    moves.append(temp_state)\n",
        "  return moves"
      ]
    },
    {
      "cell_type": "code",
      "execution_count": null,
      "metadata": {
        "id": "Z4XzHMgoymZl"
      },
      "outputs": [],
      "source": [
        "def valid(move: List):\n",
        "  if (move[0]<=move[1] or move[1]==0) and ( move[-1]<=move[-2] or move[-2]==0):\n",
        "    return True\n",
        "  return False"
      ]
    },
    {
      "cell_type": "code",
      "execution_count": null,
      "metadata": {
        "colab": {
          "base_uri": "https://localhost:8080/"
        },
        "id": "h_7KKv19u2kC",
        "outputId": "120c390d-eb0d-4090-833e-27ac523f5096"
      },
      "outputs": [
        {
          "name": "stdout",
          "output_type": "stream",
          "text": [
            "Iteration 1:  [3, 3, 'LEFT', 0, 0]\n",
            "Iteration 2:  [1, 3, 'RIGHT', 0, 2]\n",
            "Iteration 3:  [2, 2, 'RIGHT', 1, 1]\n",
            "Iteration 4:  [2, 3, 'LEFT', 0, 1]\n",
            "Iteration 5:  [0, 3, 'RIGHT', 0, 3]\n",
            "Iteration 6:  [1, 3, 'LEFT', 0, 2]\n",
            "Iteration 7:  [1, 1, 'RIGHT', 2, 2]\n",
            "Iteration 8:  [2, 2, 'LEFT', 1, 1]\n",
            "Iteration 9:  [2, 0, 'RIGHT', 3, 1]\n",
            "Iteration 10:  [3, 0, 'LEFT', 3, 0]\n",
            "Iteration 11:  [1, 0, 'RIGHT', 3, 2]\n",
            "Iteration 12:  [1, 1, 'LEFT', 2, 2]\n",
            "Iteration 13:  [0, 0, 'RIGHT', 3, 3]\n"
          ]
        }
      ],
      "source": [
        "def river_crossing():\n",
        "\n",
        "    import heapq\n",
        "    heap = []\n",
        "    curr_state = [3,3, \"LEFT\", 0, 0]\n",
        "    # cannbals, monks, direction, monks, cannibals\n",
        "    heapq.heappush(heap, [heurestic(curr_state), curr_state])\n",
        "    cnt = 0\n",
        "    visited = []\n",
        "    while len(heap)!=0:\n",
        "        curr = heapq.heappop(heap)\n",
        "        if curr in visited:\n",
        "          continue\n",
        "        else:\n",
        "          visited.append(curr)\n",
        "        print(f\"Iteration {cnt+1}: \", curr[1])\n",
        "        cnt += 1\n",
        "        if curr[1]==goal_state:\n",
        "            break\n",
        "        # print(*possible_moves(curr[1]), sep=\"\\n\")\n",
        "        for move in possible_moves(curr[1]):            \n",
        "            if valid(move):\n",
        "              cost = heurestic(move)\n",
        "              heapq.heappush(heap, [cost, move])\n",
        "        # print(\"Heap: \", heap)  \n",
        "\n",
        "river_crossing()"
      ]
    },
    {
      "cell_type": "markdown",
      "metadata": {
        "id": "bMWO9McZd1b6"
      },
      "source": [
        "# Fuzzy Logic\n",
        "\n",
        "Worksheet questions"
      ]
    },
    {
      "cell_type": "code",
      "execution_count": null,
      "metadata": {
        "id": "AOLyFbdY5AfL"
      },
      "outputs": [],
      "source": [
        "from __future__ import annotations\n",
        "from typing import Dict, List, Type"
      ]
    },
    {
      "cell_type": "markdown",
      "metadata": {
        "id": "B0a0PIyygKRU"
      },
      "source": [
        "## fuzzy set class"
      ]
    },
    {
      "cell_type": "code",
      "execution_count": null,
      "metadata": {
        "id": "MN0GARVIeDMO"
      },
      "outputs": [],
      "source": [
        "class FuzzySet():\n",
        "    \n",
        "    def __init__(self, d: Dict):\n",
        "        self.fset: Dict = d.copy()\n",
        "        \n",
        "    def union(self, set2: FuzzySet) -> FuzzySet:\n",
        "        d = self.fset.copy()\n",
        "        for key, val in set2.fset.items():\n",
        "            if key in d.keys():\n",
        "                d[key] = max(d[key], val)\n",
        "            else:\n",
        "                d[key] = val\n",
        "        \n",
        "        return FuzzySet(d)\n",
        "        \n",
        "    def intersection(self, set2: FuzzySet) -> FuzzySet:\n",
        "        d= {}\n",
        "        for key, val in self.fset.items():\n",
        "            if key in set2.fset.keys():\n",
        "                d[key] = min(val, set2.fset[key])\n",
        "                \n",
        "        return FuzzySet(d)\n",
        "\n",
        "    def compliment(self) -> FuzzySet:\n",
        "        d = {}\n",
        "        for key, value in self.fset.items():\n",
        "            d[key] = round(1-value, 2)\n",
        "            \n",
        "        return FuzzySet(d)\n",
        "\n",
        "    def difference(self, set2: FuzzySet) -> FuzzySet:\n",
        "        d = {}\n",
        "        for key, val in self.fset.items():\n",
        "            if key in set2.fset.keys():\n",
        "                d[key] = round(min(val, 1-set2.fset[key]), 2)\n",
        "                \n",
        "        return FuzzySet(d)\n",
        "\n",
        "    def __str__(self) -> str:\n",
        "        pr = \"{\"\n",
        "        for key, val in self.fset.items():\n",
        "            pr += str(key) + \": \" + str(val) + \", \"\n",
        "        \n",
        "        pr += \"}\"\n",
        "        return pr\n",
        "\n",
        "    def cartesian_product(self, set2: FuzzySet) -> List:\n",
        "      cp = []\n",
        "      for i in self.fset:\n",
        "        temp = []\n",
        "        for j in set2.fset:\n",
        "           temp.append(min(self.fset[i], set2.fset[j]))\n",
        "        cp.append(temp)\n",
        "        \n",
        "      return cp\n",
        "\n"
      ]
    },
    {
      "cell_type": "markdown",
      "metadata": {
        "id": "slpHpoVAgV9Q"
      },
      "source": [
        "## De Morgan's for Fuzzy sets"
      ]
    },
    {
      "cell_type": "code",
      "execution_count": null,
      "metadata": {
        "id": "4XHkCd6heHqD"
      },
      "outputs": [],
      "source": [
        "def de_morgans(f1: FuzzySet, f2:FuzzySet):\n",
        "\n",
        "    print(\"\\nDe Morgan's 1st law: \")\n",
        "\n",
        "    exp1 = f1.intersection(f2).compliment()\n",
        "    exp2 = f1.compliment().union(f2.compliment()) \n",
        "    print(exp1)\n",
        "    print(exp2)\n",
        "\n",
        "    if exp1.fset == exp2.fset:\n",
        "        print(\"--> Satisfies\")\n",
        "    else:\n",
        "        print(\"--> Does not satisy\")\n",
        "    \n",
        "    print(\"\\nDe Morgan's 2nd law: \")\n",
        "\n",
        "    exp1 = f1.union(f2).compliment()\n",
        "    exp2 = f1.compliment().intersection(f2.compliment()) \n",
        "    print(exp1)\n",
        "    print(exp2)\n",
        "\n",
        "    if exp1.fset == exp2.fset:\n",
        "        print(\"--> Satisfies\")\n",
        "    else:\n",
        "        print(\"--> Does not satisy\")\n"
      ]
    },
    {
      "cell_type": "markdown",
      "metadata": {
        "id": "mkz0Htu4g3IJ"
      },
      "source": [
        "## Min-max composition on fuzzy realtions"
      ]
    },
    {
      "cell_type": "code",
      "execution_count": null,
      "metadata": {
        "id": "BLY6uSVJmgAD"
      },
      "outputs": [],
      "source": [
        "def min_max_composition(R: List, S: List):\n",
        "  RoS = []\n",
        "  S = [list(i) for i in zip(*S)]\n",
        "  for i in R:\n",
        "    t = []\n",
        "    for j in S:\n",
        "      c = 0\n",
        "      for t1, t2 in zip(i,j):\n",
        "        c = max(c, min(t1, t2))\n",
        "      t.append(c)\n",
        "      # print(i, \" | \", j, \"-->\", t)\n",
        "    RoS.append(t)\n",
        "  \n",
        "  return RoS"
      ]
    },
    {
      "cell_type": "markdown",
      "metadata": {
        "id": "WbmTfbQLggr3"
      },
      "source": [
        "Driver program for basic operations on fuzzy sets"
      ]
    },
    {
      "cell_type": "code",
      "execution_count": null,
      "metadata": {
        "colab": {
          "base_uri": "https://localhost:8080/"
        },
        "id": "uAsQ69FBeLVZ",
        "outputId": "2175560b-60f5-4419-df1a-d076e00e2bc6"
      },
      "outputs": [
        {
          "name": "stdout",
          "output_type": "stream",
          "text": [
            "f1: \t {2: 1, 3: 0.4, 1: 0.6, 4: 0.2, }\n",
            "f2: \t {2: 0, 3: 0.2, 1: 0.2, 4: 0.8, }\n",
            "f1 U f2:  {2: 1, 3: 0.4, 1: 0.6, 4: 0.8, }\n",
            "f1 ^ f2:  {2: 0, 3: 0.2, 1: 0.2, 4: 0.2, }\n",
            "~f1: \t {2: 0, 3: 0.6, 1: 0.4, 4: 0.8, }\n",
            "f1 - f2:  {2: 1, 3: 0.4, 1: 0.6, 4: 0.2, }\n",
            "\n",
            "De Morgan's 1st law: \n",
            "{2: 1, 3: 0.8, 1: 0.8, 4: 0.8, }\n",
            "{2: 1, 3: 0.8, 1: 0.8, 4: 0.8, }\n",
            "--> Satisfies\n",
            "\n",
            "De Morgan's 2nd law: \n",
            "{2: 0, 3: 0.6, 1: 0.4, 4: 0.2, }\n",
            "{2: 0, 3: 0.6, 1: 0.4, 4: 0.2, }\n",
            "--> Satisfies\n",
            "R = A X B:  [[0, 0.2, 0.2, 0.8], [0, 0.2, 0.2, 0.4], [0, 0.2, 0.2, 0.6], [0, 0.2, 0.2, 0.2]]\n",
            "S = A X C:  [[0.5, 0.6, 0.1, 0.9], [0.4, 0.4, 0.1, 0.4], [0.5, 0.6, 0.1, 0.6], [0.2, 0.2, 0.1, 0.2]]\n",
            "\n",
            "Min-Max Composition (R & S):\n",
            "[0.6, 0.5, 0.3]\n",
            "[0.8, 0.4, 0.7]\n"
          ]
        }
      ],
      "source": [
        "def fuzzy_demo():\n",
        "    a = {2:1, 3:0.4, 1:0.6, 4:0.2}\n",
        "    b = {2:0, 3:0.2, 1:0.2, 4:0.8}\n",
        "    \n",
        "    f1 = FuzzySet(a)\n",
        "    f2 = FuzzySet(b)\n",
        "\n",
        "    print(\"f1: \\t\", f1)\n",
        "    print(\"f2: \\t\", f2)\n",
        "    print(\"f1 U f2: \", f1.union(f2))\n",
        "    print(\"f1 ^ f2: \", f1.intersection(f2))\n",
        "    print(\"~f1: \\t\", f1.compliment())\n",
        "    print(\"f1 - f2: \", f1.difference(f2))\n",
        "    de_morgans(f1, f2)\n",
        "\n",
        "    a = {2:1, 3:0.4, 1:0.6, 4:0.2}\n",
        "    b = {5:0, 7:0.2, 6:0.2, 8:0.8}\n",
        "    c = {2:0.5, 3:0.6, 1:0.1, 4:0.9}\n",
        "\n",
        "    fa = FuzzySet(a)\n",
        "    fb = FuzzySet(b)\n",
        "    fc = FuzzySet(c)\n",
        "\n",
        "    Rel_R = fa.cartesian_product(fb)\n",
        "    Rel_S = fa.cartesian_product(fc)\n",
        "\n",
        "    print(\"R = A X B: \", Rel_R)\n",
        "    print(\"S = A X C: \", Rel_S)\n",
        "\n",
        "    print(\"\\nMin-Max Composition (R & S):\", *min_max_composition(R, S), sep=\"\\n\")\n",
        "\n",
        "fuzzy_demo()"
      ]
    },
    {
      "cell_type": "markdown",
      "metadata": {
        "id": "F6TeUnvilfPa"
      },
      "source": [
        "## Fuzzy membership Functions using [pyit2fls](https://haghrah.github.io/PyIT2FLS/overview.html)"
      ]
    },
    {
      "cell_type": "code",
      "execution_count": null,
      "metadata": {
        "colab": {
          "base_uri": "https://localhost:8080/"
        },
        "id": "qNPCl8Rdfevc",
        "outputId": "5b304109-c012-4bab-eb29-bc76ddeeb3a2"
      },
      "outputs": [
        {
          "name": "stdout",
          "output_type": "stream",
          "text": [
            "Collecting pyit2fls\n",
            "  Downloading pyit2fls-0.7.9-py3-none-any.whl (21 kB)\n",
            "Requirement already satisfied: numpy in /usr/local/lib/python3.7/dist-packages (from pyit2fls) (1.21.6)\n",
            "Requirement already satisfied: matplotlib in /usr/local/lib/python3.7/dist-packages (from pyit2fls) (3.2.2)\n",
            "Requirement already satisfied: scipy in /usr/local/lib/python3.7/dist-packages (from pyit2fls) (1.4.1)\n",
            "Requirement already satisfied: cycler>=0.10 in /usr/local/lib/python3.7/dist-packages (from matplotlib->pyit2fls) (0.11.0)\n",
            "Requirement already satisfied: python-dateutil>=2.1 in /usr/local/lib/python3.7/dist-packages (from matplotlib->pyit2fls) (2.8.2)\n",
            "Requirement already satisfied: pyparsing!=2.0.4,!=2.1.2,!=2.1.6,>=2.0.1 in /usr/local/lib/python3.7/dist-packages (from matplotlib->pyit2fls) (3.0.8)\n",
            "Requirement already satisfied: kiwisolver>=1.0.1 in /usr/local/lib/python3.7/dist-packages (from matplotlib->pyit2fls) (1.4.2)\n",
            "Requirement already satisfied: typing-extensions in /usr/local/lib/python3.7/dist-packages (from kiwisolver>=1.0.1->matplotlib->pyit2fls) (4.2.0)\n",
            "Requirement already satisfied: six>=1.5 in /usr/local/lib/python3.7/dist-packages (from python-dateutil>=2.1->matplotlib->pyit2fls) (1.15.0)\n",
            "Installing collected packages: pyit2fls\n",
            "Successfully installed pyit2fls-0.7.9\n"
          ]
        }
      ],
      "source": [
        "!pip install pyit2fls"
      ]
    },
    {
      "cell_type": "code",
      "execution_count": null,
      "metadata": {
        "id": "1dBWaleAjIye"
      },
      "outputs": [],
      "source": [
        "from pyit2fls import IT2FS, trapezoid_mf, tri_mf, gaussian_mf"
      ]
    },
    {
      "cell_type": "code",
      "execution_count": null,
      "metadata": {
        "id": "_dTnCDhJiilD"
      },
      "outputs": [],
      "source": [
        "from numpy import linspace"
      ]
    },
    {
      "cell_type": "code",
      "execution_count": null,
      "metadata": {
        "colab": {
          "base_uri": "https://localhost:8080/",
          "height": 279
        },
        "id": "rspt76z7jAbk",
        "outputId": "f335cdd2-9f6f-4f96-8131-617c5fee76a8"
      },
      "outputs": [
        {
          "data": {
            "image/png": "[encoded data removed]",
            "text/plain": [
              "<Figure size 432x288 with 1 Axes>"
            ]
          },
          "metadata": {
            "needs_background": "light"
          },
          "output_type": "display_data"
        }
      ],
      "source": [
        "Trap_Set = IT2FS(linspace(0.,1.,100), trapezoid_mf, [0, 0.4, 0.6, 1., 1.])\n",
        "Trap_Set.plot(filename=\"Trap_Set\")"
      ]
    },
    {
      "cell_type": "code",
      "execution_count": null,
      "metadata": {
        "colab": {
          "base_uri": "https://localhost:8080/",
          "height": 279
        },
        "id": "Ypv5r3OmjNaF",
        "outputId": "6327b150-f5ef-48dd-9dea-76dc028c6db8"
      },
      "outputs": [
        {
          "data": {
            "image/png": "[encoded data removed]",
            "text/plain": [
              "<Figure size 432x288 with 1 Axes>"
            ]
          },
          "metadata": {
            "needs_background": "light"
          },
          "output_type": "display_data"
        }
      ],
      "source": [
        "Tri_Set = IT2FS(linspace(0.,1.,100), tri_mf, [0, 0.6, 1., 1.])\n",
        "Tri_Set.plot(filename=\"Tri_Set\")"
      ]
    },
    {
      "cell_type": "code",
      "execution_count": null,
      "metadata": {
        "colab": {
          "base_uri": "https://localhost:8080/",
          "height": 279
        },
        "id": "7_46TxvlkwPW",
        "outputId": "7af0ac05-b00e-41b8-e34d-58ae16db4bcc"
      },
      "outputs": [
        {
          "data": {
            "image/png": "[encoded data removed]",
            "text/plain": [
              "<Figure size 432x288 with 1 Axes>"
            ]
          },
          "metadata": {
            "needs_background": "light"
          },
          "output_type": "display_data"
        }
      ],
      "source": [
        "Gauss_Set = IT2FS(linspace(0., 1., 100), gaussian_mf, [0.5, 0.23, 1])\n",
        "Gauss_Set.plot(filename=\"Gauss_Set\")"
      ]
    },
    {
      "cell_type": "markdown",
      "metadata": {
        "id": "nOi2EEM4q1M4"
      },
      "source": [
        "## Fuzzy Control System example"
      ]
    },
    {
      "cell_type": "code",
      "execution_count": null,
      "metadata": {
        "id": "b-mbTyKrm-nP"
      },
      "outputs": [],
      "source": [
        "import matplotlib.pyplot as plt"
      ]
    },
    {
      "cell_type": "markdown",
      "metadata": {
        "id": "rnax4b0Oq5Tm"
      },
      "source": [
        "Speed Diff, Acceleration & Throttle Control"
      ]
    },
    {
      "cell_type": "code",
      "execution_count": null,
      "metadata": {
        "id": "OCNAqQCulOwX"
      },
      "outputs": [],
      "source": [
        "height = 1\n",
        "\n",
        "membership_values = {\n",
        "  \"nm\": [31, 61, 95],\n",
        "  \"ns\": [61, 95, 127],\n",
        "  \"ze\": [95, 127, 159],\n",
        "  \"ps\": [127, 159, 191],\n",
        "  \"pm\": [159, 191, 223],\n",
        "  \"nl\": [0, 0, 31, 61],\n",
        "  \"pl\": [191, 223, 255, 280],\n",
        "}\n",
        "\n",
        "rules = [[\"nl\", \"ze\", \"pl\"],\n",
        "         [\"ze\", \"nl\", \"pl\"],\n",
        "         [\"nm\", \"ze\", \"pm\"],\n",
        "         [\"ns\", \"ps\", \"ps\"],\n",
        "         [\"ps\", \"ns\", \"ns\"],\n",
        "         [\"pl\", \"ze\", \"nl\"],\n",
        "         [\"ze\", \"ns\", \"ps\"],\n",
        "         [\"ze\", \"nm\", \"pm\"]]"
      ]
    },
    {
      "cell_type": "code",
      "execution_count": null,
      "metadata": {
        "id": "nQGdHBVJp54n"
      },
      "outputs": [],
      "source": [
        "def is_valid_rule(speed_rule, speed, acc_rule, acc):\n",
        "    speed_membership = membership_values[speed_rule]\n",
        "    acc_membership = membership_values[acc_rule]\n",
        "\n",
        "    if speed_membership[0] <= speed and speed <= speed_membership[-1]:\n",
        "        if acc_membership[0] <= acc and acc <= acc_membership[-1]:\n",
        "            return True\n",
        "    \n",
        "    return False"
      ]
    },
    {
      "cell_type": "code",
      "execution_count": null,
      "metadata": {
        "id": "GlEFt4atp1SJ"
      },
      "outputs": [],
      "source": [
        "def fuzzyfication(rule, speed, acc):\n",
        "    speed_mem = membership_values[rule[0]]\n",
        "    acc_mem = membership_values[rule[1]]\n",
        "\n",
        "    u_speed = max(min( (speed - speed_mem[0])/(speed_mem[1]- speed_mem[0]), (speed_mem[2]-speed)/(speed_mem[2]-speed_mem[1])), 0)\n",
        "    u_acc = max(min((acc - acc_mem[0])/ (acc_mem[1] - acc_mem[0]), (acc_mem[2] - acc)/ (acc_mem[2]- acc_mem[1])), 0)\n",
        "\n",
        "    return min(u_acc, u_speed)"
      ]
    },
    {
      "cell_type": "code",
      "execution_count": null,
      "metadata": {
        "id": "FuC341TwqBH-"
      },
      "outputs": [],
      "source": [
        "def calculate_area_and_weighted_area(rule, fuzzy_value):\n",
        "    throttle_mem = membership_values[rule[2]]\n",
        "    \n",
        "    m1 = (1 - 0)/(throttle_mem[1] - throttle_mem[0])\n",
        "    m2 = (0 - 1)/(throttle_mem[2] - throttle_mem[1])\n",
        "    \n",
        "    a1 = (fuzzy_value - 0 + m1*throttle_mem[0])/m1\n",
        "    a2 = (fuzzy_value - 1 + m2*throttle_mem[1])/m2\n",
        "    \n",
        "    a = a2 - a1\n",
        "    b = throttle_mem[2] - throttle_mem[0]\n",
        "    \n",
        "    plt.plot([a1, a2], [fuzzy_value, fuzzy_value])\n",
        "    \n",
        "    area = 0.5 * fuzzy_value * (a + b)\n",
        "    weighted_area = area * throttle_mem[1]\n",
        "    \n",
        "    return (area, weighted_area)"
      ]
    },
    {
      "cell_type": "code",
      "execution_count": null,
      "metadata": {
        "id": "VilyPE33rbam"
      },
      "outputs": [],
      "source": [
        "def plot_graph():\n",
        "\n",
        "  for label in membership_values:\n",
        "    if len(membership_values[label]) == 4:\n",
        "      plt.plot(membership_values[label], [0, 1, 1, 0], label=label)\n",
        "    else:\n",
        "      plt.plot(membership_values[label], [0, 1, 0], label=label)  \n"
      ]
    },
    {
      "cell_type": "code",
      "execution_count": null,
      "metadata": {
        "id": "T0loOieQqv0R"
      },
      "outputs": [],
      "source": [
        "def calculate_throttle_control(speed, acceleration):\n",
        "    weighted_area_sum = 0\n",
        "    area_sum = 0\n",
        "    \n",
        "    for rule in rules:\n",
        "        if is_valid_rule(rule[0], speed, rule[1], acceleration):\n",
        "            print(rule)\n",
        "            fuzzy_value = fuzzyfication(rule, speed, acceleration)\n",
        "            x, y = calculate_area_and_weighted_area(rule, fuzzy_value)\n",
        "            area_sum+=x\n",
        "            weighted_area_sum+=y\n",
        "            \n",
        "    print(weighted_area_sum/area_sum)\n",
        "            "
      ]
    },
    {
      "cell_type": "code",
      "execution_count": null,
      "metadata": {
        "colab": {
          "base_uri": "https://localhost:8080/",
          "height": 334
        },
        "id": "P1DTWbsGqvxX",
        "outputId": "133135e1-4821-4590-909e-412487365de6"
      },
      "outputs": [
        {
          "name": "stdout",
          "output_type": "stream",
          "text": [
            "['nm', 'ze', 'pm']\n",
            "['ns', 'ps', 'ps']\n",
            "185.84166090091955\n"
          ]
        },
        {
          "data": {
            "image/png": "[encoded data removed]",
            "text/plain": [
              "<Figure size 432x288 with 1 Axes>"
            ]
          },
          "metadata": {
            "needs_background": "light"
          },
          "output_type": "display_data"
        }
      ],
      "source": [
        "def fuzzy_control_system():\n",
        "    plot_graph()\n",
        "    \n",
        "    plt.xlabel(\"throttle_control\")\n",
        "    plt.ylabel(\"membership_value\")\n",
        "    \n",
        "    calculate_throttle_control(70, 130)\n",
        "\n",
        "    plt.legend()\n",
        "    plt.show()\n",
        "\n",
        "fuzzy_control_system()"
      ]
    },
    {
      "cell_type": "markdown",
      "metadata": {
        "id": "sWlEau2XBWXI"
      },
      "source": [
        "# Kohenan SOM"
      ]
    },
    {
      "cell_type": "code",
      "execution_count": null,
      "metadata": {
        "id": "K9rO6-KvBkFy"
      },
      "outputs": [],
      "source": [
        "ipV = [[0.2,0.4]]\n",
        "w = [[0.5,0.2],[0.1,0.4],[0.1,0.4],[0.6,0.9],[0.9,0.1]]\n",
        "\n",
        "# ipV = [[1, 1, 0, 0], [0, 0, 0, 1], [1, 0, 0, 0], [0, 0, 1, 1], [0, 0, 0, 1]]\n",
        "# w = [[0.2, 0.6, 0.5, 0.9], [0.8, 0.4, 0.7, 0.3]]\n",
        "\n",
        "alpha = 0.3"
      ]
    },
    {
      "cell_type": "code",
      "execution_count": null,
      "metadata": {
        "colab": {
          "base_uri": "https://localhost:8080/"
        },
        "id": "037KsJnjCbMD",
        "outputId": "8bb2d944-2a4a-4cf7-fdb0-28e707b8e01c"
      },
      "outputs": [
        {
          "name": "stdout",
          "output_type": "stream",
          "text": [
            "Input: [0.2, 0.4]\n",
            "Winning cluster: 1\n",
            "[[0.5, 0.2], [0.13, 0.4], [0.1, 0.4], [0.6, 0.9], [0.9, 0.1]]\n"
          ]
        }
      ],
      "source": [
        "for ip in ipV:\n",
        "\n",
        "    print(f\"Input: {ip}\")\n",
        "\n",
        "    c = []\n",
        "    for weight in w:\n",
        "        c.append( sum([(i-j)**2 for i,j in zip(ip, weight)]) )\n",
        "\n",
        "    pos = c.index(min(c))\n",
        "    print(f\"Winning cluster: {pos}\")\n",
        "\n",
        "    # Weight updation for winning cluster\n",
        "    for j in range(len(ip)):\n",
        "        w[pos][j] += alpha*(ip[j] - w[pos][j])\n",
        "\n",
        "print(w)\n"
      ]
    },
    {
      "cell_type": "markdown",
      "metadata": {
        "id": "Cwcw3yH6Bbwv"
      },
      "source": [
        "# Hidden Markov Model"
      ]
    },
    {
      "cell_type": "markdown",
      "metadata": {
        "id": "wDGYcnh4B7XV"
      },
      "source": []
    },
    {
      "cell_type": "markdown",
      "metadata": {
        "id": "A2UCpa0WB0NH"
      },
      "source": [
        "## HMM (Prob)"
      ]
    },
    {
      "cell_type": "code",
      "execution_count": null,
      "metadata": {
        "id": "c2NMZ888BkhW"
      },
      "outputs": [],
      "source": [
        "h = {\"a\":0.2,\"c\":0.3,\"g\":0.3,\"t\":0.2,\"h\":0.5,\"l\":0.5}\n",
        "l = {\"a\":0.3,\"c\":0.2,\"g\":0.2,\"t\":0.3,\"l\":0.6,\"h\":0.4}\n",
        "\n",
        "startH = 0.5\n",
        "startL = 0.5\n",
        "\n",
        "pattern = \"ggcactgaa\""
      ]
    },
    {
      "cell_type": "code",
      "execution_count": null,
      "metadata": {
        "id": "zADvbcbEB9ce"
      },
      "outputs": [],
      "source": [
        "hp = [0.5*h[pattern[0]]]\n",
        "lp = [0.5*l[pattern[0]]]"
      ]
    },
    {
      "cell_type": "code",
      "execution_count": null,
      "metadata": {
        "id": "H8M7e49XCBmL"
      },
      "outputs": [],
      "source": [
        "for char in pattern[1:]:\n",
        "    xh = h[char] * max(hp[-1]*h['h'] , lp[-1]*l['h'])\n",
        "    xl = l[char] * max(hp[-1]*h['l'] , lp[-1]*l['l'])\n",
        "\n",
        "    hp.append(xh)\n",
        "    lp.append(xl)"
      ]
    },
    {
      "cell_type": "code",
      "execution_count": null,
      "metadata": {
        "colab": {
          "base_uri": "https://localhost:8080/"
        },
        "id": "gDOgENf_CBj5",
        "outputId": "4c3e7f76-d301-4fac-b337-79fac4efe14b"
      },
      "outputs": [
        {
          "name": "stdout",
          "output_type": "stream",
          "text": [
            "[0.15, 0.0225, 0.003375, 0.0003375, 6.074999999999999e-05, 6.0749999999999994e-06, 1.3122e-06, 1.3122e-07, 1.889568e-08] \n",
            " [0.1, 0.015, 0.00225, 0.00050625, 6.075e-05, 1.0935e-05, 1.3122e-06, 2.3619599999999995e-07, 4.251527999999999e-08]\n"
          ]
        }
      ],
      "source": [
        "print(hp, \"\\n\", lp)"
      ]
    },
    {
      "cell_type": "code",
      "execution_count": null,
      "metadata": {
        "colab": {
          "base_uri": "https://localhost:8080/"
        },
        "id": "45-mFiUcCBhx",
        "outputId": "a1645350-a1cd-4b6e-9ee7-2f85b09f8d12"
      },
      "outputs": [
        {
          "name": "stdout",
          "output_type": "stream",
          "text": [
            "HHHLLLLLL"
          ]
        }
      ],
      "source": [
        "for i,j in zip(lp, hp):\n",
        "    if i>=j:\n",
        "        print(\"L\", end='')\n",
        "    else:\n",
        "        print(\"H\", end='')"
      ]
    },
    {
      "cell_type": "markdown",
      "metadata": {
        "id": "PIFSglIhCKw9"
      },
      "source": [
        "## HMM (log Prob)"
      ]
    },
    {
      "cell_type": "code",
      "execution_count": null,
      "metadata": {
        "id": "6gRISQhFCNWn"
      },
      "outputs": [],
      "source": [
        "h = {\"a\":-2.322,\"c\":-1.737,\"g\":-1.737,\"t\":-2.322,\"h\":-1,\"l\":-1}\n",
        "l = {\"a\":-1.737,\"c\":-2.322,\"g\":-2.322,\"t\":-1.737,\"l\":-0.737,\"h\":-1.322}\n",
        "\n",
        "startH = -1\n",
        "startL = -1\n",
        "\n",
        "pattern = \"ggcactgaa\""
      ]
    },
    {
      "cell_type": "code",
      "execution_count": null,
      "metadata": {
        "id": "8DmyWMZhCRYB"
      },
      "outputs": [],
      "source": [
        "hp = [startH + h[pattern[0]]]\n",
        "lp = [startL + l[pattern[0]]]"
      ]
    },
    {
      "cell_type": "code",
      "execution_count": null,
      "metadata": {
        "id": "oPWZdN_lCRMd"
      },
      "outputs": [],
      "source": [
        "for char in pattern[1:]:\n",
        "    \n",
        "    ha = h[char] + max(hp[-1] + h['h'], lp[-1] + l['h'])\n",
        "    la = l[char] + max(hp[-1] + h['l'], lp[-1] + l['l'])\n",
        "\n",
        "    hp.append(ha)\n",
        "    lp.append(la)"
      ]
    },
    {
      "cell_type": "code",
      "execution_count": null,
      "metadata": {
        "colab": {
          "base_uri": "https://localhost:8080/"
        },
        "id": "W1cI_A6PCRBV",
        "outputId": "81d7d9e5-cf6e-4abd-fbf3-543812fc4084"
      },
      "outputs": [
        {
          "name": "stdout",
          "output_type": "stream",
          "text": [
            "H H H L H L L L L "
          ]
        }
      ],
      "source": [
        "for i,j in zip(hp, lp):\n",
        "\n",
        "    if i>j:\n",
        "        print(\"H\", end = \" \")\n",
        "    else:\n",
        "        print(\"L\", end = \" \")"
      ]
    },
    {
      "cell_type": "markdown",
      "metadata": {
        "id": "_HKv5OzQBg8u"
      },
      "source": [
        "# Single Layer Perceptron"
      ]
    },
    {
      "cell_type": "code",
      "execution_count": null,
      "metadata": {
        "id": "ZmXh2dewBk-B"
      },
      "outputs": [],
      "source": [
        "inst = [[\"mi\",11,13],[\"mi\",9,12],[\"mi\",8.5,18],[\"mi\",12,8],[\"mi\",13,18],[\"a\",18,5],[\"a\",20,7.5]\n",
        "     ,[\"a\",16.5,6],[\"a\",19,6.5],[\"a\",12,9]]\n",
        "\n",
        "w = [0.3, 0.6]\n",
        "aplha = 0.0001 "
      ]
    },
    {
      "cell_type": "code",
      "execution_count": null,
      "metadata": {
        "id": "7L2yDUGRClFr"
      },
      "outputs": [],
      "source": [
        "w_next = []\n",
        "while w!=w_next:\n",
        "    w_next = w[:]\n",
        "    for inp in inst:\n",
        "        x = sum([i*j for i,j in zip(inp[1:], w)]) \n",
        "        print(f\"--> x: {x}\")\n",
        "\n",
        "        if x > 0 and inp[0] != \"mi\":\n",
        "            w = [round(i+ aplha*(-1)*j, 3) for i,j in zip(w, inp[1:])]\n",
        "            print(f\"Updated w: {w}\")\n",
        "\n",
        "        if x <0 and inp[0] != \"a\":\n",
        "            w = [round(i+ aplha*(1)*j, 3) for i,j in zip(w, inp[1:])]\n",
        "            print(f\"Updated w: {w}\")\n"
      ]
    }
  ],
  "metadata": {
    "colab": {
      "collapsed_sections": [
        "_m7-VtOCqiOo",
        "1J2dfYpxqfxB",
        "G_QZZFWprg6l",
        "7YNF_U_kqnxq",
        "x5UknXvzu3YR",
        "bMWO9McZd1b6",
        "B0a0PIyygKRU",
        "slpHpoVAgV9Q",
        "mkz0Htu4g3IJ",
        "F6TeUnvilfPa",
        "sWlEau2XBWXI",
        "Cwcw3yH6Bbwv",
        "A2UCpa0WB0NH",
        "PIFSglIhCKw9",
        "_HKv5OzQBg8u"
      ],
      "name": "AI.ipynb",
      "provenance": []
    },
    "kernelspec": {
      "display_name": "Python 3",
      "name": "python3"
    },
    "language_info": {
      "name": "python"
    }
  },
  "nbformat": 4,
  "nbformat_minor": 0
}
